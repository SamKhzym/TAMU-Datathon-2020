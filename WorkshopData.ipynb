{
 "cells": [
  {
   "cell_type": "code",
   "execution_count": 1,
   "metadata": {},
   "outputs": [],
   "source": [
    "import pandas as pd\n",
    "workshops = pd.read_csv(\"workshops.csv\").set_index('workshop')\n",
    "queries = pd.read_csv(\"queries.csv\")\n",
    "query_features = pd.read_csv(\"query_features.csv\")\n",
    "apps = pd.read_csv(\"applicants.csv\").set_index('userid')"
   ]
  },
  {
   "cell_type": "code",
   "execution_count": 2,
   "metadata": {},
   "outputs": [],
   "source": [
    "tags_dict = {}\n",
    "for i in range(len(workshops.index)):\n",
    "    tags_dict[str(workshops.iloc[i][\"workshop_short\"])] = (workshops.iloc[i][\"tags\"]).split(\", \")"
   ]
  },
  {
   "cell_type": "code",
   "execution_count": 5,
   "metadata": {},
   "outputs": [],
   "source": [
    "for i in range(len(workshops.index)):\n",
    "    col = []\n",
    "    for j in range(len(queries.index)):\n",
    "        #print(workshops.iloc[i][\"workshop_short\"])\n",
    "        col.append(find_word_substrings(tags_dict[workshops.iloc[i][\"workshop_short\"]], queries.iloc[j][\"query\"]))\n",
    "        \n",
    "    queries.insert(len(queries.columns)-1, (workshops.iloc[i][\"workshop_short\"]+\"_count\"), col)"
   ]
  },
  {
   "cell_type": "code",
   "execution_count": 4,
   "metadata": {},
   "outputs": [],
   "source": [
    "def find_word_substrings(tag_list, query):\n",
    "    count = 0\n",
    "    for tag in tag_list:\n",
    "\n",
    "        if tag.lower() in query.lower():\n",
    "            count += 1\n",
    "            \n",
    "    return count"
   ]
  },
  {
   "cell_type": "code",
   "execution_count": 6,
   "metadata": {},
   "outputs": [],
   "source": [
    "queries.to_csv(\"query_features_2.csv\")"
   ]
  },
  {
   "cell_type": "code",
   "execution_count": 7,
   "metadata": {},
   "outputs": [],
   "source": [
    "import sklearn.model_selection as sk_model\n",
    "from sklearn.linear_model import LogisticRegression as lr\n",
    "query_features = pd.read_csv(\"query_features_2.csv\")\n",
    "\n",
    "x = query_features[query_features.columns[2:23]]\n",
    "y = query_features[query_features.columns[-1]]\n",
    "x_train, x_test, y_train, y_test = sk_model.train_test_split(x, y, test_size=0.2)\n",
    "\n",
    "clf = lr(max_iter=1000).fit(x_train, y_train)"
   ]
  },
  {
   "cell_type": "code",
   "execution_count": 116,
   "metadata": {},
   "outputs": [
    {
     "name": "stdout",
     "output_type": "stream",
     "text": [
      "0.6\n",
      "['DL' 'DS' 'DL' 'ML' 'DS' 'ML' 'DS' 'ML' 'DS' 'DS']\n",
      "6     CS\n",
      "42    DL\n",
      "39    DL\n",
      "43    DL\n",
      "40    DS\n",
      "27    ML\n",
      "33    ML\n",
      "9     ML\n",
      "13    DS\n",
      "37    DS\n",
      "Name: class, dtype: object\n"
     ]
    }
   ],
   "source": [
    "preds = clf.predict(x_test)\n",
    "score = clf.score(x_test, y_test)\n",
    "print(score)\n",
    "print(preds)\n",
    "print(y_test)"
   ]
  },
  {
   "cell_type": "code",
   "execution_count": null,
   "metadata": {},
   "outputs": [],
   "source": []
  }
 ],
 "metadata": {
  "kernelspec": {
   "display_name": "Python 3",
   "language": "python",
   "name": "python3"
  },
  "language_info": {
   "codemirror_mode": {
    "name": "ipython",
    "version": 3
   },
   "file_extension": ".py",
   "mimetype": "text/x-python",
   "name": "python",
   "nbconvert_exporter": "python",
   "pygments_lexer": "ipython3",
   "version": "3.8.3"
  }
 },
 "nbformat": 4,
 "nbformat_minor": 4
}
