{
 "cells": [
  {
   "cell_type": "markdown",
   "metadata": {
    "id": "ty3i03OmMTcq"
   },
   "source": [
    "# TD For-You Page\n",
    "\n",
    "TD wants the hackathon experience to be top-notch for everyone. To assist in this, we want to provide a **For-You** page to our future applicants on our website tamudatathon.com. Can you use the TAMU Datathon data to make this happen?\n",
    "\n",
    "**Ideas:**\n",
    "- Visualization of Achievements\n",
    "- Supervised Learning for Recommending Workshops\n",
    "- Clustering for Team Building\n",
    "- Natural Language Processing for Workshops Search Engine\n",
    "\n",
    "**Datasets:**\n",
    "\n",
    "We provide four datasets for this challenge. You are free to find your own as well.\n",
    "1. TD 2020 Applicant Data\n",
    "2. Bootcamps\n",
    "3. Workshop Queries\n",
    "4. Workshops\n",
    "\n",
    "\n",
    "The details for these datasets are here: www.datalogz.io. \n",
    "1. Make an account, and for company, enter 'TAMU Datathon'\n",
    "2. On the homepage, click 'Enter a Code' and enter SZMX5CNOZU\n",
    "3. You should have access to the relevant tables on the left hand bar\n",
    "4. Choose the desired table. Click \"Definitions\" to see column definitions\n"
   ]
  },
  {
   "cell_type": "code",
   "execution_count": null,
   "metadata": {
    "id": "1fnR1Gf-VtD3"
   },
   "outputs": [],
   "source": [
    "import pandas as pd\n",
    "apps = pd.read_csv('https://drive.google.com/uc?id=1mPK8_AasPMdqy3D9D0kxjjKcIXmhhcQo').set_index('userid') # read 'TD 2020 Applicant' data"
   ]
  },
  {
   "cell_type": "code",
   "execution_count": null,
   "metadata": {
    "colab": {
     "base_uri": "https://localhost:8080/",
     "height": 281
    },
    "id": "lMVY_esyV5I_",
    "outputId": "3c4bf3b0-defa-480f-9f2f-3859e4cab7d6"
   },
   "outputs": [
    {
     "data": {
      "text/html": [
       "<div>\n",
       "<style scoped>\n",
       "    .dataframe tbody tr th:only-of-type {\n",
       "        vertical-align: middle;\n",
       "    }\n",
       "\n",
       "    .dataframe tbody tr th {\n",
       "        vertical-align: top;\n",
       "    }\n",
       "\n",
       "    .dataframe thead th {\n",
       "        text-align: right;\n",
       "    }\n",
       "</style>\n",
       "<table border=\"1\" class=\"dataframe\">\n",
       "  <thead>\n",
       "    <tr style=\"text-align: right;\">\n",
       "      <th></th>\n",
       "      <th>school</th>\n",
       "      <th>other_school</th>\n",
       "      <th>majors</th>\n",
       "      <th>minors</th>\n",
       "      <th>age_bin</th>\n",
       "      <th>classification</th>\n",
       "      <th>first_generation</th>\n",
       "      <th>datascience_experience</th>\n",
       "      <th>technology_experience</th>\n",
       "      <th>num_hackathons_attended</th>\n",
       "      <th>workshop_suggestions</th>\n",
       "      <th>relavent_industries</th>\n",
       "    </tr>\n",
       "    <tr>\n",
       "      <th>userid</th>\n",
       "      <th></th>\n",
       "      <th></th>\n",
       "      <th></th>\n",
       "      <th></th>\n",
       "      <th></th>\n",
       "      <th></th>\n",
       "      <th></th>\n",
       "      <th></th>\n",
       "      <th></th>\n",
       "      <th></th>\n",
       "      <th></th>\n",
       "      <th></th>\n",
       "    </tr>\n",
       "  </thead>\n",
       "  <tbody>\n",
       "    <tr>\n",
       "      <th>95030aef3e970680d882f1527f549d9e</th>\n",
       "      <td>Texas A&amp;M University</td>\n",
       "      <td>NaN</td>\n",
       "      <td>['Landscape Architecture &amp; Urban Planning', 'P...</td>\n",
       "      <td>['Soil and Crop Sciences']</td>\n",
       "      <td>(25, 30]</td>\n",
       "      <td>Ma</td>\n",
       "      <td>False</td>\n",
       "      <td>2</td>\n",
       "      <td>['Excel', 'Python', 'Tableau', 'Pandas']</td>\n",
       "      <td>0</td>\n",
       "      <td>Python Fundamentals (Functions/Loops)\\nVisuali...</td>\n",
       "      <td>['consulting', 'public_policy', 'other']</td>\n",
       "    </tr>\n",
       "    <tr>\n",
       "      <th>68ad76832a913de0d62df103b3d5b807</th>\n",
       "      <td>Texas A&amp;M University</td>\n",
       "      <td>NaN</td>\n",
       "      <td>['Electrical Engineering', 'Material Science',...</td>\n",
       "      <td>[]</td>\n",
       "      <td>(18, 20]</td>\n",
       "      <td>Jr</td>\n",
       "      <td>True</td>\n",
       "      <td>2</td>\n",
       "      <td>['Excel', 'Python', 'Pandas', 'NumPy', 'MATLAB']</td>\n",
       "      <td>0</td>\n",
       "      <td>Training videos on different levels of machine...</td>\n",
       "      <td>['technology', 'education', 'healthcare', 'ins...</td>\n",
       "    </tr>\n",
       "  </tbody>\n",
       "</table>\n",
       "</div>"
      ],
      "text/plain": [
       "                                                school  ...                                relavent_industries\n",
       "userid                                                  ...                                                   \n",
       "95030aef3e970680d882f1527f549d9e  Texas A&M University  ...           ['consulting', 'public_policy', 'other']\n",
       "68ad76832a913de0d62df103b3d5b807  Texas A&M University  ...  ['technology', 'education', 'healthcare', 'ins...\n",
       "\n",
       "[2 rows x 12 columns]"
      ]
     },
     "execution_count": 2,
     "metadata": {
      "tags": []
     },
     "output_type": "execute_result"
    }
   ],
   "source": [
    "apps.head(2)"
   ]
  },
  {
   "cell_type": "code",
   "execution_count": 1,
   "metadata": {
    "id": "C9HHxJRF1o1x"
   },
   "outputs": [
    {
     "ename": "NameError",
     "evalue": "name 'pd' is not defined",
     "output_type": "error",
     "traceback": [
      "\u001b[1;31m---------------------------------------------------------------------------\u001b[0m",
      "\u001b[1;31mNameError\u001b[0m                                 Traceback (most recent call last)",
      "\u001b[1;32m<ipython-input-1-19ccf4363781>\u001b[0m in \u001b[0;36m<module>\u001b[1;34m\u001b[0m\n\u001b[1;32m----> 1\u001b[1;33m \u001b[0mbootcamp\u001b[0m \u001b[1;33m=\u001b[0m \u001b[0mpd\u001b[0m\u001b[1;33m.\u001b[0m\u001b[0mread_csv\u001b[0m\u001b[1;33m(\u001b[0m\u001b[1;34m'https://drive.google.com/uc?id=1sovKLesEqPbkUte_ysRP9mGQ1gFCO2ME'\u001b[0m\u001b[1;33m)\u001b[0m\u001b[1;33m.\u001b[0m\u001b[0mset_index\u001b[0m\u001b[1;33m(\u001b[0m\u001b[1;34m'userid'\u001b[0m\u001b[1;33m)\u001b[0m \u001b[1;31m# read 'Bootcamp' data\u001b[0m\u001b[1;33m\u001b[0m\u001b[1;33m\u001b[0m\u001b[0m\n\u001b[0m",
      "\u001b[1;31mNameError\u001b[0m: name 'pd' is not defined"
     ]
    }
   ],
   "source": [
    "bootcamp = pd.read_csv('https://drive.google.com/uc?id=1sovKLesEqPbkUte_ysRP9mGQ1gFCO2ME').set_index('userid') # read 'Bootcamp' data"
   ]
  },
  {
   "cell_type": "code",
   "execution_count": null,
   "metadata": {
    "colab": {
     "base_uri": "https://localhost:8080/",
     "height": 142
    },
    "id": "Nr2Ud0IM0cSV",
    "outputId": "12ee858d-8d98-4771-c92a-6df234c065ff"
   },
   "outputs": [
    {
     "data": {
      "text/html": [
       "<div>\n",
       "<style scoped>\n",
       "    .dataframe tbody tr th:only-of-type {\n",
       "        vertical-align: middle;\n",
       "    }\n",
       "\n",
       "    .dataframe tbody tr th {\n",
       "        vertical-align: top;\n",
       "    }\n",
       "\n",
       "    .dataframe thead th {\n",
       "        text-align: right;\n",
       "    }\n",
       "</style>\n",
       "<table border=\"1\" class=\"dataframe\">\n",
       "  <thead>\n",
       "    <tr style=\"text-align: right;\">\n",
       "      <th></th>\n",
       "      <th>workshop</th>\n",
       "    </tr>\n",
       "    <tr>\n",
       "      <th>userid</th>\n",
       "      <th></th>\n",
       "    </tr>\n",
       "  </thead>\n",
       "  <tbody>\n",
       "    <tr>\n",
       "      <th>f48d02fd46d249ab2c37f925f405139f</th>\n",
       "      <td>Data Science: Start Here</td>\n",
       "    </tr>\n",
       "    <tr>\n",
       "      <th>f48d02fd46d249ab2c37f925f405139f</th>\n",
       "      <td>Getting a Job in Data Science</td>\n",
       "    </tr>\n",
       "  </tbody>\n",
       "</table>\n",
       "</div>"
      ],
      "text/plain": [
       "                                                       workshop\n",
       "userid                                                         \n",
       "f48d02fd46d249ab2c37f925f405139f       Data Science: Start Here\n",
       "f48d02fd46d249ab2c37f925f405139f  Getting a Job in Data Science"
      ]
     },
     "execution_count": 5,
     "metadata": {
      "tags": []
     },
     "output_type": "execute_result"
    }
   ],
   "source": [
    "bootcamp.head(2)"
   ]
  },
  {
   "cell_type": "code",
   "execution_count": null,
   "metadata": {
    "colab": {
     "base_uri": "https://localhost:8080/",
     "height": 102
    },
    "id": "w1ruDxut5eFj",
    "outputId": "4fcaf2d4-36dd-4541-be7a-10ca19557a63"
   },
   "outputs": [
    {
     "data": {
      "text/plain": [
       "Index(['workshop', 'school', 'other_school', 'majors', 'minors', 'age_bin',\n",
       "       'classification', 'first_generation', 'datascience_experience',\n",
       "       'technology_experience', 'num_hackathons_attended',\n",
       "       'workshop_suggestions', 'relavent_industries'],\n",
       "      dtype='object')"
      ]
     },
     "execution_count": 6,
     "metadata": {
      "tags": []
     },
     "output_type": "execute_result"
    }
   ],
   "source": [
    "joined = bootcamp.join(apps)\n",
    "joined.columns"
   ]
  },
  {
   "cell_type": "markdown",
   "metadata": {
    "id": "YrcbBKotfUKn"
   },
   "source": [
    "# Visualization for Sponsorships?\n",
    "Awesome sponsors make an awesome TD. Sponsors want to know why they should sponsor datathon. Can you answer this for them using data viz and EDA?"
   ]
  },
  {
   "cell_type": "code",
   "execution_count": null,
   "metadata": {
    "colab": {
     "base_uri": "https://localhost:8080/",
     "height": 281
    },
    "id": "MGd6GR2TfZZo",
    "outputId": "3b1112d5-815b-4cfa-d933-b2f4e41fe53a"
   },
   "outputs": [
    {
     "data": {
      "text/plain": [
       "Text(0.5, 1.0, 'Top 10 Majors')"
      ]
     },
     "execution_count": 7,
     "metadata": {
      "tags": []
     },
     "output_type": "execute_result"
    },
    {
     "data": {
      "image/png": "[encoded data removed]",
      "text/plain": [
       "<Figure size 1008x288 with 2 Axes>"
      ]
     },
     "metadata": {
      "tags": []
     },
     "output_type": "display_data"
    }
   ],
   "source": [
    "import matplotlib.pyplot as plt\n",
    "\n",
    "fig, (ax1, ax2) = plt.subplots(1, 2, figsize=(14, 4))\n",
    "apps.relavent_industries.apply(eval).explode().value_counts().plot.pie(ax=ax1)\n",
    "ax1.set_title('Applicant Interest in Industries')\n",
    "apps.majors.apply(eval).explode().value_counts()[:10].plot.pie(ax=ax2)\n",
    "ax2.set_title('Top 10 Majors')"
   ]
  },
  {
   "cell_type": "code",
   "execution_count": null,
   "metadata": {
    "colab": {
     "base_uri": "https://localhost:8080/",
     "height": 187
    },
    "id": "I0wof6u181wb",
    "outputId": "ab5b5754-8562-44a7-c92f-dc4ade4dd76e"
   },
   "outputs": [
    {
     "name": "stdout",
     "output_type": "stream",
     "text": [
      "Predicting 8 workshops\n"
     ]
    },
    {
     "data": {
      "text/plain": [
       "Data Science: Start Here                                 0.23\n",
       "Getting a Job in Data Science                            0.22\n",
       "Natural Language Processing                              0.12\n",
       "Hacking Unsupervised Clustering Algorithms               0.10\n",
       "Machine Learning: Start Here                             0.10\n",
       "Convolutional Neural Networks & Semantic Segmentation    0.09\n",
       "Model Interpretability                                   0.07\n",
       "Story Telling With Data                                  0.07\n",
       "Name: workshop, dtype: float64"
      ]
     },
     "execution_count": 8,
     "metadata": {
      "tags": []
     },
     "output_type": "execute_result"
    }
   ],
   "source": [
    "print(f'Predicting {joined.workshop.nunique()} workshops')\n",
    "joined.workshop.value_counts(normalize=True).round(2)"
   ]
  },
  {
   "cell_type": "markdown",
   "metadata": {
    "id": "PNqxjNvDfKxs"
   },
   "source": [
    "# Supervised Learning for Recommending Workshops?\n",
    "- Netflix recommends movies, Amazon recommends products, why can't TD recommend workshops to participants?"
   ]
  },
  {
   "cell_type": "code",
   "execution_count": null,
   "metadata": {
    "id": "V8tzkpkF8DiW"
   },
   "outputs": [],
   "source": [
    "target_name = 'workshop'\n",
    "feature_names = ['datascience_experience', 'age_bin', 'classification', 'num_hackathons_attended']\n",
    "target = joined[target_name]\n",
    "features = joined[feature_names]"
   ]
  },
  {
   "cell_type": "code",
   "execution_count": null,
   "metadata": {
    "id": "3L4xBmjY9KXo"
   },
   "outputs": [],
   "source": [
    "from sklearn.dummy import DummyClassifier\n",
    "clf = DummyClassifier(strategy='most_frequent')"
   ]
  },
  {
   "cell_type": "code",
   "execution_count": null,
   "metadata": {
    "colab": {
     "base_uri": "https://localhost:8080/",
     "height": 34
    },
    "id": "0H9hEtI48f5o",
    "outputId": "af1ecc0a-5240-4985-baaa-e75eefa5abb2"
   },
   "outputs": [
    {
     "data": {
      "text/plain": [
       "0.23"
      ]
     },
     "execution_count": 15,
     "metadata": {
      "tags": []
     },
     "output_type": "execute_result"
    }
   ],
   "source": [
    "from sklearn.model_selection import cross_val_score\n",
    "cross_val_score(clf, features, target).mean().round(2)"
   ]
  },
  {
   "cell_type": "code",
   "execution_count": null,
   "metadata": {
    "cellView": "form",
    "id": "rvH2hktmC9GQ"
   },
   "outputs": [],
   "source": [
    "#@title MAP@K\n",
    "#@markdown MAP@K is a metric you should report for your recommendation engine!\n",
    "\n",
    "import numpy as np\n",
    "\n",
    "def apk(actual, predicted, k):\n",
    "    \"\"\"\n",
    "    Computes the average precision at k.\n",
    "    This function computes the average prescision at k between two lists of\n",
    "    items.\n",
    "    Parameters\n",
    "    ----------\n",
    "    actual : list\n",
    "             A list of elements that are to be predicted (order doesn't matter)\n",
    "    predicted : list\n",
    "                A list of predicted elements (order does matter)\n",
    "    k : int, optional\n",
    "        The maximum number of predicted elements\n",
    "    Returns\n",
    "    -------\n",
    "    score : double\n",
    "            The average precision at k over the input lists\n",
    "    \"\"\"\n",
    "    if len(predicted)>k:\n",
    "        predicted = predicted[:k]\n",
    "\n",
    "    score = 0.0\n",
    "    num_hits = 0.0\n",
    "\n",
    "    for i,p in enumerate(predicted):\n",
    "        if p in actual and p not in predicted[:i]:\n",
    "            num_hits += 1.0\n",
    "            score += num_hits / (i+1.0)\n",
    "\n",
    "    if not actual:\n",
    "        return 0.0\n",
    "\n",
    "    return score / min(len(actual), k)\n",
    "\n",
    "def mapk(actual, predicted, k=1):\n",
    "    \"\"\"\n",
    "    Computes the mean average precision at k.\n",
    "    This function computes the mean average prescision at k between two lists\n",
    "    of lists of items.\n",
    "    Parameters\n",
    "    ----------\n",
    "    actual : list\n",
    "             A list of lists of elements that are to be predicted \n",
    "             (order doesn't matter in the lists)\n",
    "    predicted : list\n",
    "                A list of lists of predicted elements\n",
    "                (order matters in the lists)\n",
    "    k : int, optional\n",
    "        The maximum number of predicted elements\n",
    "    Returns\n",
    "    -------\n",
    "    score : double\n",
    "            The mean average precision at k over the input lists\n",
    "    \"\"\"\n",
    "    return np.mean([apk(a,p,k) for a,p in zip(actual, predicted)])\n"
   ]
  },
  {
   "cell_type": "code",
   "execution_count": null,
   "metadata": {
    "id": "tKuPOIKk_GiF"
   },
   "outputs": [],
   "source": [
    "# get the pairings of (user, list of ws attended)\n",
    "actual = bootcamp.groupby('userid').workshop.apply(list)\n",
    "# get the corresponding users from the applications df\n",
    "reindexed = apps.loc[actual.index]"
   ]
  },
  {
   "cell_type": "code",
   "execution_count": null,
   "metadata": {
    "id": "TYDS41NOHeCV"
   },
   "outputs": [],
   "source": [
    "def get_ordered_predictions(clf, features):\n",
    "  probs = clf.predict_proba(features)\n",
    "  predicted_idx = np.argsort(probs, axis=1)[:,::-1]\n",
    "  return clf.classes_[predicted_idx]\n",
    "\n",
    "clf.fit(features, target)\n",
    "preds = get_ordered_predictions(clf, reindexed[feature_names])"
   ]
  },
  {
   "cell_type": "code",
   "execution_count": null,
   "metadata": {
    "colab": {
     "base_uri": "https://localhost:8080/",
     "height": 34
    },
    "id": "D7Jsb1j9OmPU",
    "outputId": "a6e4a001-cd12-448a-8b6a-68aeb7e1ebe3"
   },
   "outputs": [
    {
     "data": {
      "text/plain": [
       "0.5833333333333334"
      ]
     },
     "execution_count": 19,
     "metadata": {
      "tags": []
     },
     "output_type": "execute_result"
    }
   ],
   "source": [
    "mapk(actual, preds, k=1)"
   ]
  },
  {
   "cell_type": "markdown",
   "metadata": {
    "id": "xiFdrKFgfAK-"
   },
   "source": [
    "# Clustering for Team Building?\n",
    "- Due to COVID, finding people to team with amoungst the 1200 other particants can be daunting. Could you recommend teamates considering such things as time zone? Think Facebook/Linkedin friend recommender..."
   ]
  },
  {
   "cell_type": "markdown",
   "metadata": {
    "id": "Dl8jREmPa994"
   },
   "source": [
    "# Natural Language Processing for Finding Workshops?\n",
    "\n",
    "- Finding the right workshop to attend can be tricky and time is valuable during a datathon. Build a search engine for TD workshops that allows particpants to use natural langauge queries to find workshops, e.g. \"how to import a dataset\" -> Data Wrangling\n",
    "- Idea: What if you trained word embeddings on towards data science [articles](https://www.kaggle.com/dorianlazar/medium-articles-dataset)?"
   ]
  },
  {
   "cell_type": "code",
   "execution_count": null,
   "metadata": {
    "id": "e4oTYfj7aPHL"
   },
   "outputs": [],
   "source": [
    "queries = pd.read_csv('https://drive.google.com/uc?id=1ff4xFh4fl0-SvpYNeYQoNvDbzdiZfn-t')\n",
    "workshops = pd.read_csv('https://drive.google.com/uc?id=10MngpIZoAGgwAk_sxoORj7WPYs74nz5Y')"
   ]
  },
  {
   "cell_type": "code",
   "execution_count": null,
   "metadata": {
    "colab": {
     "base_uri": "https://localhost:8080/",
     "height": 111
    },
    "id": "vmEKLyoI--Ye",
    "outputId": "454a23d3-cb60-43ed-98b6-e45cecdd3656"
   },
   "outputs": [
    {
     "data": {
      "text/html": [
       "<div>\n",
       "<style scoped>\n",
       "    .dataframe tbody tr th:only-of-type {\n",
       "        vertical-align: middle;\n",
       "    }\n",
       "\n",
       "    .dataframe tbody tr th {\n",
       "        vertical-align: top;\n",
       "    }\n",
       "\n",
       "    .dataframe thead th {\n",
       "        text-align: right;\n",
       "    }\n",
       "</style>\n",
       "<table border=\"1\" class=\"dataframe\">\n",
       "  <thead>\n",
       "    <tr style=\"text-align: right;\">\n",
       "      <th></th>\n",
       "      <th>query</th>\n",
       "      <th>workshop</th>\n",
       "    </tr>\n",
       "  </thead>\n",
       "  <tbody>\n",
       "    <tr>\n",
       "      <th>0</th>\n",
       "      <td>Using machine learning</td>\n",
       "      <td>Machine Learning Part 2/2: Applied</td>\n",
       "    </tr>\n",
       "    <tr>\n",
       "      <th>1</th>\n",
       "      <td>underlying math</td>\n",
       "      <td>Machine Learning Part 1/2: Theory</td>\n",
       "    </tr>\n",
       "  </tbody>\n",
       "</table>\n",
       "</div>"
      ],
      "text/plain": [
       "                    query                            workshop\n",
       "0  Using machine learning  Machine Learning Part 2/2: Applied\n",
       "1         underlying math   Machine Learning Part 1/2: Theory"
      ]
     },
     "execution_count": 21,
     "metadata": {
      "tags": []
     },
     "output_type": "execute_result"
    }
   ],
   "source": [
    "queries.head(2)"
   ]
  },
  {
   "cell_type": "code",
   "execution_count": null,
   "metadata": {
    "colab": {
     "base_uri": "https://localhost:8080/",
     "height": 111
    },
    "id": "fk5RZ7Wi-_1F",
    "outputId": "05817d73-6528-4f4c-f8ed-0fe0b7a87ac2"
   },
   "outputs": [
    {
     "data": {
      "text/html": [
       "<div>\n",
       "<style scoped>\n",
       "    .dataframe tbody tr th:only-of-type {\n",
       "        vertical-align: middle;\n",
       "    }\n",
       "\n",
       "    .dataframe tbody tr th {\n",
       "        vertical-align: top;\n",
       "    }\n",
       "\n",
       "    .dataframe thead th {\n",
       "        text-align: right;\n",
       "    }\n",
       "</style>\n",
       "<table border=\"1\" class=\"dataframe\">\n",
       "  <thead>\n",
       "    <tr style=\"text-align: right;\">\n",
       "      <th></th>\n",
       "      <th>event</th>\n",
       "      <th>workshop</th>\n",
       "      <th>tags</th>\n",
       "      <th>description</th>\n",
       "      <th>track</th>\n",
       "      <th>difficulty</th>\n",
       "    </tr>\n",
       "  </thead>\n",
       "  <tbody>\n",
       "    <tr>\n",
       "      <th>0</th>\n",
       "      <td>TD 2020</td>\n",
       "      <td>Introduction to Python</td>\n",
       "      <td>for, loops, functions, while, logic, variables...</td>\n",
       "      <td>Are you new to programming? Or do you want a r...</td>\n",
       "      <td>CS</td>\n",
       "      <td>0</td>\n",
       "    </tr>\n",
       "    <tr>\n",
       "      <th>1</th>\n",
       "      <td>TD 2020</td>\n",
       "      <td>Storytelling with Data</td>\n",
       "      <td>presenting, impact, business, data science</td>\n",
       "      <td>In this talk, we will describe how we use data...</td>\n",
       "      <td>Industry</td>\n",
       "      <td>0</td>\n",
       "    </tr>\n",
       "  </tbody>\n",
       "</table>\n",
       "</div>"
      ],
      "text/plain": [
       "     event                workshop  ...     track difficulty\n",
       "0  TD 2020  Introduction to Python  ...        CS          0\n",
       "1  TD 2020  Storytelling with Data  ...  Industry          0\n",
       "\n",
       "[2 rows x 6 columns]"
      ]
     },
     "execution_count": 22,
     "metadata": {
      "tags": []
     },
     "output_type": "execute_result"
    }
   ],
   "source": [
    "workshops.head(2)"
   ]
  },
  {
   "cell_type": "code",
   "execution_count": null,
   "metadata": {
    "id": "NhVb5KRNl-F8"
   },
   "outputs": [],
   "source": [
    "workshops.tags = workshops.tags.apply(lambda xs: xs.split(', '))"
   ]
  },
  {
   "cell_type": "code",
   "execution_count": null,
   "metadata": {
    "colab": {
     "base_uri": "https://localhost:8080/",
     "height": 34
    },
    "id": "7A3ep7H8kPcK",
    "outputId": "5714c688-82ab-40b5-dc86-72209efc6a72"
   },
   "outputs": [
    {
     "data": {
      "text/plain": [
       "171350079"
      ]
     },
     "execution_count": 24,
     "metadata": {
      "tags": []
     },
     "output_type": "execute_result"
    }
   ],
   "source": [
    "# load the Stanford GloVe model\n",
    "import requests\n",
    "url = 'https://td2020-static.s3.amazonaws.com/glove.6B.50d.txt'\n",
    "r = requests.get(url)\n",
    "open('glove.6B.50d.txt', 'wb').write(r.content) "
   ]
  },
  {
   "cell_type": "code",
   "execution_count": null,
   "metadata": {
    "colab": {
     "base_uri": "https://localhost:8080/",
     "height": 88
    },
    "id": "i5V-U-eZiIrP",
    "outputId": "68da29f3-80e6-4a91-b393-d2c1ad473e48"
   },
   "outputs": [
    {
     "name": "stderr",
     "output_type": "stream",
     "text": [
      "/usr/local/lib/python3.6/dist-packages/smart_open/smart_open_lib.py:252: UserWarning: This function is deprecated, use smart_open.open instead. See the migration notes for details: https://github.com/RaRe-Technologies/smart_open/blob/master/README.rst#migrating-to-the-new-open-function\n",
      "  'See the migration notes for details: %s' % _MIGRATION_NOTES_URL\n"
     ]
    },
    {
     "data": {
      "text/plain": [
       "(400000, 50)"
      ]
     },
     "execution_count": 25,
     "metadata": {
      "tags": []
     },
     "output_type": "execute_result"
    }
   ],
   "source": [
    "from gensim.scripts.glove2word2vec import glove2word2vec\n",
    "glove_input_file = 'glove.6B.50d.txt'\n",
    "word2vec_output_file = 'glove.6B.50d.txt.word2vec'\n",
    "glove2word2vec(glove_input_file, word2vec_output_file)"
   ]
  },
  {
   "cell_type": "code",
   "execution_count": null,
   "metadata": {
    "colab": {
     "base_uri": "https://localhost:8080/",
     "height": 71
    },
    "id": "Q92eFu2n9-37",
    "outputId": "7695dcef-e080-41fe-a1c1-8b03747d6da8"
   },
   "outputs": [
    {
     "name": "stderr",
     "output_type": "stream",
     "text": [
      "/usr/local/lib/python3.6/dist-packages/smart_open/smart_open_lib.py:252: UserWarning: This function is deprecated, use smart_open.open instead. See the migration notes for details: https://github.com/RaRe-Technologies/smart_open/blob/master/README.rst#migrating-to-the-new-open-function\n",
      "  'See the migration notes for details: %s' % _MIGRATION_NOTES_URL\n"
     ]
    }
   ],
   "source": [
    "from gensim.models import KeyedVectors\n",
    "model = KeyedVectors.load_word2vec_format(word2vec_output_file, binary=False)"
   ]
  },
  {
   "cell_type": "code",
   "execution_count": null,
   "metadata": {
    "colab": {
     "base_uri": "https://localhost:8080/",
     "height": 374
    },
    "id": "jB2_srZdnfsO",
    "outputId": "f6d7da8b-5340-4f2e-cac0-ef899367b01e"
   },
   "outputs": [
    {
     "name": "stdout",
     "output_type": "stream",
     "text": [
      "Query                                                                 Predicted Workshop                      Actual Workshop                         \n",
      "Using machine learning                                                Machine Learning Part 1/2: Theory       Machine Learning Part 2/2: Applied      \n",
      "underlying math                                                       Machine Learning: Start Here            Machine Learning Part 1/2: Theory       \n",
      "The math portion                                                      Storytelling with Data                  Machine Learning Part 1/2: Theory       \n",
      "TensorFlow                                                            Introduction to Python                  Intro to Neural Networks                \n",
      "Statisticd                                                            Introduction to Python                  Stats for Data Scientists               \n",
      "Sampling bias                                                         Stats for Data Scientists               Stats for Data Scientists               \n",
      "Python beginners class                                                Introduction to Python                  Introduction to Python                  \n",
      "NLP                                                                   Data Visualization                      Natural Language Processing             \n",
      "Neural Networks                                                       Machine Learning: Start Here            Intro to Neural Networks                \n",
      "Natural language processing                                           Storytelling with Data                  Natural Language Processing             \n",
      "topics in deep learning                                               Reinforcement Learning                  Intro to Neural Networks                \n",
      "machine learning                                                      Machine Learning Part 1/2: Theory       Machine Learning Part 1/2: Theory       \n",
      "More detail about high dimensional data and related theory            Storytelling with Data                  Hacking Unsupervised Custering Algorithms\n",
      "data wrangling topics                                                 Storytelling with Data                  Data Wrangling                          \n",
      "data visualization techniques                                         Storytelling with Data                  Data Visualization                      \n",
      "basics about the programs that organize the data like Panda           Storytelling with Data                  Data Wrangling                          \n",
      "Machine learning, image processing                                    CNN's and Segmentation                  CNN's and Segmentation                  \n",
      "Machine learning                                                      Machine Learning Part 1/2: Theory       Machine Learning Part 1/2: Theory       \n",
      "Logistical regression vs linear                                       Machine Learning Part 1/2: Theory       Machine Learning Part 1/2: Theory       \n",
      "Intro to Python                                                       Introduction to Python                  Introduction to Python                  \n"
     ]
    }
   ],
   "source": [
    "def distance(query, tag_set):\n",
    "  if len(tag_set) == 0:\n",
    "    return np.inf\n",
    "  lquery = query.lower().split()\n",
    "  prospect = ' '.join(tag_set).lower().split()\n",
    "  return model.wmdistance(lquery, prospect)\n",
    "\n",
    "def get_best_match_workshop(query):\n",
    "  return np.argmin([distance(query, ws) for ws in workshops.tags.values])\n",
    "\n",
    "print('{0:<70}{1:<40}{2:<40}'.format('Query', 'Predicted Workshop', 'Actual Workshop'))\n",
    "for i in range(20):\n",
    "  query = queries.iloc[i].query\n",
    "  predict_idx = get_best_match_workshop(query)\n",
    "  predicted = workshops.iloc[predict_idx].workshop\n",
    "  actual = queries.iloc[i].workshop\n",
    "  print('{0:<70}{1:<40}{2:<40}'.format(query, predicted, actual))"
   ]
  },
  {
   "cell_type": "markdown",
   "metadata": {
    "id": "X3LBGWrq7jVG"
   },
   "source": [
    "# Host On Web App?\n",
    "Show us all you got by building a dashboard webapp in Python at\n",
    "[streamlit.io](https://www.streamlit.io/)!"
   ]
  }
 ],
 "metadata": {
  "colab": {
   "collapsed_sections": [],
   "name": "td_for_you_starter.ipynb",
   "provenance": []
  },
  "kernelspec": {
   "display_name": "Python 3",
   "language": "python",
   "name": "python3"
  },
  "language_info": {
   "codemirror_mode": {
    "name": "ipython",
    "version": 3
   },
   "file_extension": ".py",
   "mimetype": "text/x-python",
   "name": "python",
   "nbconvert_exporter": "python",
   "pygments_lexer": "ipython3",
   "version": "3.8.3"
  }
 },
 "nbformat": 4,
 "nbformat_minor": 4
}
