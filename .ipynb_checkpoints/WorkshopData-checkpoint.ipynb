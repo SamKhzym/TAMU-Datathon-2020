{
 "cells": [
  {
   "cell_type": "code",
   "execution_count": 1,
   "metadata": {},
   "outputs": [],
   "source": [
    "import pandas as pd\n",
    "workshops = pd.read_csv(\"workshops.csv\").set_index('workshop')\n",
    "queries = pd.read_csv(\"queries.csv\")\n",
    "query_features = pd.read_csv(\"query_features.csv\")\n",
    "apps = pd.read_csv(\"applicants.csv\").set_index('userid')"
   ]
  },
  {
   "cell_type": "code",
   "execution_count": 2,
   "metadata": {},
   "outputs": [],
   "source": [
    "tags_dict = {}\n",
    "for i in range(len(workshops.index)):\n",
    "    tags_dict[str(workshops.iloc[i][\"workshop_short\"])] = (workshops.iloc[i][\"tags\"]).split(\", \")"
   ]
  },
  {
   "cell_type": "code",
   "execution_count": 257,
   "metadata": {},
   "outputs": [],
   "source": [
    "def create_feature_df(df, is_queries=False):\n",
    "    for i in range(len(workshops.index)):\n",
    "        col = []\n",
    "        if is_queries:\n",
    "            for j in range(len(queries.index)):\n",
    "                col.append(find_word_substrings(tags_dict[workshops.iloc[i][\"workshop_short\"]], df.iloc[j][\"query\"]))\n",
    "            df.insert(len(df.query)-1, (workshops.iloc[i][\"workshop_short\"]+\"_count\"), col)\n",
    "            \n",
    "        else:\n",
    "            for j in range(len(df.index)):\n",
    "                col.append(find_word_substrings(tags_dict[workshops.iloc[i][\"workshop_short\"]], df.iloc[j][\"workshop_suggestions\"]))\n",
    "            df.insert(len(df.columns), (workshops.iloc[i][\"workshop_short\"]+\"_count\"), col)\n",
    "            \n",
    "    return df"
   ]
  },
  {
   "cell_type": "code",
   "execution_count": 243,
   "metadata": {},
   "outputs": [],
   "source": [
    "def find_word_substrings(tag_list, query):\n",
    "    count = 0\n",
    "    for tag in tag_list:\n",
    "\n",
    "        if tag.lower() in query.lower():\n",
    "            count += 1\n",
    "            \n",
    "    return count"
   ]
  },
  {
   "cell_type": "code",
   "execution_count": 244,
   "metadata": {},
   "outputs": [],
   "source": [
    "import sklearn.model_selection as sk_model\n",
    "from sklearn.linear_model import LogisticRegression as lr\n",
    "query_features = pd.read_csv(\"query_features_2.csv\")\n",
    "\n",
    "def get_classifier():\n",
    "    x = query_features[query_features.columns[2:23]]\n",
    "    y = query_features[query_features.columns[-1]]\n",
    "    x_train, x_test, y_train, y_test = sk_model.train_test_split(x, y, test_size=0.2)\n",
    "\n",
    "    clf = lr(max_iter=1000).fit(x_train, y_train)\n",
    "    \n",
    "    return clf"
   ]
  },
  {
   "cell_type": "code",
   "execution_count": 245,
   "metadata": {
    "collapsed": true,
    "jupyter": {
     "outputs_hidden": true,
     "source_hidden": true
    }
   },
   "outputs": [
    {
     "name": "stdout",
     "output_type": "stream",
     "text": [
      "    intro_py_count  intro_nn_count  reinforcement_count  cnn_seg_count  \\\n",
      "6                2               1                    0              0   \n",
      "23               0               0                    0              0   \n",
      "17               0               1                    1              0   \n",
      "41               0               0                    0              0   \n",
      "32               0               0                    0              0   \n",
      "24               0               0                    0              0   \n",
      "7                0               0                    0              0   \n",
      "5                0               0                    0              0   \n",
      "18               0               0                    0              0   \n",
      "34               0               0                    0              0   \n",
      "\n",
      "    stats_ds_count  wrangling_count  visualization_count  ds_start_count  \\\n",
      "6                1                1                    0               1   \n",
      "23               1                1                    0               1   \n",
      "17               1                0                    0               0   \n",
      "41               1                0                    0               0   \n",
      "32               1                0                    0               0   \n",
      "24               0                1                    0               1   \n",
      "7                0                0                    0               0   \n",
      "5                1                0                    0               0   \n",
      "18               1                0                    0               0   \n",
      "34               1                0                    0               0   \n",
      "\n",
      "    story_data_td_count  win_tamu_count  ...  job_ds_count  ml_theory_count  \\\n",
      "6                     0               0  ...             0                0   \n",
      "23                    0               0  ...             1                0   \n",
      "17                    0               0  ...             0                1   \n",
      "41                    0               0  ...             0                0   \n",
      "32                    0               0  ...             0                0   \n",
      "24                    0               0  ...             1                0   \n",
      "7                     0               0  ...             0                0   \n",
      "5                     0               0  ...             0                0   \n",
      "18                    0               0  ...             0                0   \n",
      "34                    0               0  ...             0                0   \n",
      "\n",
      "    ml_applied_count  intro_nlp_count  ml_interpret_count  recc_engine_count  \\\n",
      "6                  0                0                   0                  0   \n",
      "23                 0                0                   0                  0   \n",
      "17                 1                0                   0                  0   \n",
      "41                 0                0                   0                  0   \n",
      "32                 0                0                   0                  0   \n",
      "24                 0                0                   0                  0   \n",
      "7                  0                0                   0                  0   \n",
      "5                  0                0                   0                  0   \n",
      "18                 0                0                   0                  0   \n",
      "34                 0                0                   0                  0   \n",
      "\n",
      "    huca_count  ml_start_count  model_interpret_count  nlp_count  \n",
      "6            0               0                      0          0  \n",
      "23           0               0                      0          0  \n",
      "17           0               1                      0          0  \n",
      "41           1               0                      0          0  \n",
      "32           1               0                      0          0  \n",
      "24           0               0                      0          0  \n",
      "7            0               0                      0          0  \n",
      "5            0               0                      0          0  \n",
      "18           0               1                      0          0  \n",
      "34           0               0                      0          0  \n",
      "\n",
      "[10 rows x 21 columns]\n"
     ]
    }
   ],
   "source": [
    "preds = clf.predict(x_test)\n",
    "score = clf.score(x_test, y_test)\n",
    "#print(score)\n",
    "#print(preds)\n",
    "print(x_test)"
   ]
  },
  {
   "cell_type": "code",
   "execution_count": 291,
   "metadata": {},
   "outputs": [],
   "source": [
    "def get_app_data(index):\n",
    "    applicant = apps.iloc[index].to_frame().transpose()\n",
    "    applicant = applicant[[\"workshop_suggestions\"]]\n",
    "    print(applicant)\n",
    "    \n",
    "    app_df = create_feature_df(applicant)\n",
    "    \n",
    "    clf = get_classifier()\n",
    "    print(clf.predict(applicant[applicant.columns[1:22]]))"
   ]
  },
  {
   "cell_type": "code",
   "execution_count": 315,
   "metadata": {},
   "outputs": [
    {
     "name": "stdout",
     "output_type": "stream",
     "text": [
      "                                 workshop_suggestions\n",
      "76b067cd5f3e1b1976d2e2eeceedf567  Python data science\n",
      "intro_py_count\n",
      "['DS']\n",
      "None                                  datascience_experience\n",
      "76b067cd5f3e1b1976d2e2eeceedf567                      1\n"
     ]
    }
   ],
   "source": [
    "print(display_app_data(3), apps.iloc[3].to_frame().transpose()[[\"datascience_experience\"]])"
   ]
  },
  {
   "cell_type": "code",
   "execution_count": null,
   "metadata": {},
   "outputs": [],
   "source": [
    "def get_workshops(track, experience):\n",
    "    workshop_list = []\n",
    "    for i in range(len(workshops[\"track\"])):\n",
    "        print(workshops.iloc[i][\"workshops\"])"
   ]
  }
 ],
 "metadata": {
  "kernelspec": {
   "display_name": "Python 3",
   "language": "python",
   "name": "python3"
  },
  "language_info": {
   "codemirror_mode": {
    "name": "ipython",
    "version": 3
   },
   "file_extension": ".py",
   "mimetype": "text/x-python",
   "name": "python",
   "nbconvert_exporter": "python",
   "pygments_lexer": "ipython3",
   "version": "3.8.3"
  }
 },
 "nbformat": 4,
 "nbformat_minor": 4
}
